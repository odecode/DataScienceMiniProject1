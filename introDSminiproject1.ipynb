{
 "cells": [
  {
   "cell_type": "code",
   "execution_count": 23,
   "metadata": {},
   "outputs": [],
   "source": [
    "from bs4 import BeautifulSoup\n",
    "import requests\n",
    "import csv\n",
    "import pandas as pd\n",
    "import numpy as np\n",
    "import matplotlib.pyplot as plt\n",
    "import seaborn as sb\n",
    "import urllib\n",
    "from IPython.display import Image\n",
    "from IPython.core.display import HTML \n",
    "\n"
   ]
  },
  {
   "cell_type": "code",
   "execution_count": 24,
   "metadata": {
    "scrolled": true
   },
   "outputs": [
    {
     "data": {
      "text/plain": [
       "51"
      ]
     },
     "execution_count": 24,
     "metadata": {},
     "output_type": "execute_result"
    }
   ],
   "source": [
    "csvfile = open(\"Skinnytaste.csv\", \"w\")\n",
    "csvwriter = csv.writer(csvfile)\n",
    "csvwriter.writerow([\"name\", \"summary\", \"calories\", \"blue\",\"green\",\"purple\",\"image\", \"key\"])\n"
   ]
  },
  {
   "cell_type": "markdown",
   "metadata": {},
   "source": [
    "# Data scrape and filter"
   ]
  },
  {
   "cell_type": "code",
   "execution_count": 25,
   "metadata": {},
   "outputs": [],
   "source": [
    "def filterIrrelevantArticles(soup):\n",
    "    articleList = soup.find_all(\"article\")\n",
    "    #articles that are recipes have classes inside that are \"icons\" or \"recipe-meta\"\n",
    "    #find out if article has those and if not, it is an irrelevant article that can be removed from list\n",
    "    \n",
    "    for article in articleList:\n",
    "        foundIcons = False\n",
    "        for child in article.children:\n",
    "            if child.name == \"div\" and child.has_attr(\"class\"):\n",
    "                if child.get(\"class\")[0] == \"post-meta\":\n",
    "                    for grandchild in child.children:\n",
    "                        if grandchild.get(\"class\")[0] == \"icons\" or grandchild.get(\"class\")[0] == \"recipe-meta\":\n",
    "                            foundIcons = True\n",
    "                            break\n",
    "        if foundIcons == False:\n",
    "            articleList.remove(article)\n",
    "            \n",
    "    return articleList\n",
    "         "
   ]
  },
  {
   "cell_type": "code",
   "execution_count": 26,
   "metadata": {},
   "outputs": [],
   "source": [
    "def writetocsv(soup):\n",
    "        #find all blue/green/purple points, calories, summaries and save into lists\n",
    "        #also save all articles and filter relevant articles for comparison to get rid of articles that are not recipes\n",
    "        blist = soup.find_all(\"span\", class_=\"smart-points blue\")\n",
    "        glist = soup.find_all(\"span\", class_=\"smart-points green\")\n",
    "        plist = soup.find_all(\"span\", class_=\"smart-points purple\")\n",
    "        namelist = soup.find_all(\"h2\", class_=\"title\")\n",
    "        callist = soup.find_all(\"span\", class_=\"icon-star\")\n",
    "        summarylist = soup.find_all(\"p\", class_=\"excerpt\")\n",
    "        imglist = []\n",
    "        imgstrings = []\n",
    "        relevantArticles = filterIrrelevantArticles(soup)\n",
    "        allArticles = soup.find_all(\"article\", {\"class\":[\"post teaser-post odd\", \"post teaser-post even\"]})\n",
    "    \n",
    "        for article in relevantArticles:\n",
    "            imgSrc = article.find('a').img.get('src')\n",
    "            imglist.append(imgSrc)\n",
    "            imgstring = urllib.parse.quote(imgSrc,safe=\":/.-_\")\n",
    "            imgstrings.append(imgstring)\n",
    "        for article, Post, summary in zip(allArticles, namelist, summarylist):\n",
    "            if article not in relevantArticles:\n",
    "                namelist.remove(Post)\n",
    "                summarylist.remove(summary)\n",
    "        #remove first item in calories and points, because we enter the first item manually since the article structure is different      \n",
    "        callist.pop(0)\n",
    "        blist.pop(0)\n",
    "        glist.pop(0)\n",
    "        plist.pop(0)\n",
    "        \n",
    "        #loop through each of the lists and write as rows into my csv file\n",
    "        for Post, bplist, gplist, pplist, clist, slist, img in zip(namelist, blist,glist,plist, callist, summarylist, imgstrings):        \n",
    "                pn=Post.text\n",
    "                cals = clist.text\n",
    "                summary = slist.text\n",
    "                bp = bplist.text\n",
    "                gp = gplist.text\n",
    "                pp = pplist.text\n",
    "                #print(img)\n",
    "                csvwriter.writerow([pn,summary,cals,bp, gp, pp, img])"
   ]
  },
  {
   "cell_type": "code",
   "execution_count": null,
   "metadata": {},
   "outputs": [],
   "source": []
  },
  {
   "cell_type": "code",
   "execution_count": 27,
   "metadata": {
    "scrolled": false
   },
   "outputs": [],
   "source": [
    "page = \"https://www.skinnytaste.com\"\n",
    "#loop 30 times, for each page on the website. read in as beautifulsoup and write relevant data into a csv file\n",
    "for i in range(1,31):\n",
    "    if i == 1:\n",
    "        source = requests.get(page).text\n",
    "        soup = BeautifulSoup(source, \"lxml\")\n",
    "        #print(soup.prettify())\n",
    "        #Manually insert first row in csv file because its style is different from the rest of the posts\n",
    "        firstPostName = soup.find(\"div\",class_=\"post-title\").h1.text\n",
    "        #firstsummary = soup.find(\"p\")\n",
    "        bluepoint = soup.find(\"span\", class_=\"smart-points blue\").text\n",
    "        greenpoint = soup.find(\"span\", class_=\"smart-points green\").text\n",
    "        purplepoint = soup.find(\"span\", class_=\"smart-points purple\").text        \n",
    "        csvwriter.writerow([firstPostName, \"\", \"\", bluepoint,greenpoint,purplepoint])\n",
    "        writetocsv(soup)\n",
    "    if i > 1:\n",
    "        numpage = \"https://www.skinnytaste.com/page/{}/\"\n",
    "        numpage = numpage.format(i)\n",
    "        source = requests.get(numpage).text\n",
    "        soup = BeautifulSoup(source, \"lxml\")\n",
    "        writetocsv(soup)"
   ]
  },
  {
   "cell_type": "code",
   "execution_count": 28,
   "metadata": {},
   "outputs": [],
   "source": [
    "csvfile.close()"
   ]
  },
  {
   "cell_type": "markdown",
   "metadata": {},
   "source": [
    "## Charts"
   ]
  },
  {
   "cell_type": "code",
   "execution_count": 29,
   "metadata": {},
   "outputs": [
    {
     "data": {
      "image/png": "[encoded data removed]",
      "text/plain": [
       "<Figure size 432x288 with 1 Axes>"
      ]
     },
     "metadata": {
      "needs_background": "light"
     },
     "output_type": "display_data"
    }
   ],
   "source": [
    "def createCalChart():\n",
    "    bins = []\n",
    "    for i in range(0,500,5):\n",
    "        bins.append(i)\n",
    "    frame = pd.read_csv(\"Skinnytaste.csv\", encoding=\"latin-1\")\n",
    "    sb.distplot(frame.calories, bins=20)\n",
    "createCalChart()"
   ]
  },
  {
   "cell_type": "code",
   "execution_count": 30,
   "metadata": {},
   "outputs": [
    {
     "data": {
      "image/png": "[encoded data removed]",
      "text/plain": [
       "<Figure size 432x288 with 1 Axes>"
      ]
     },
     "metadata": {
      "needs_background": "light"
     },
     "output_type": "display_data"
    }
   ],
   "source": [
    "def createPntChart():\n",
    "    frame = pd.read_csv(\"Skinnytaste.csv\", encoding=\"latin-1\")\n",
    "    sb.distplot([frame.blue,frame.green,frame.purple])\n",
    "    #sb.barplot(x=\"x\",y=\"y\",data=frame.blue)\n",
    "        \n",
    "        \n",
    "createPntChart()"
   ]
  },
  {
   "cell_type": "markdown",
   "metadata": {},
   "source": [
    "# User interaction"
   ]
  },
  {
   "cell_type": "code",
   "execution_count": 33,
   "metadata": {},
   "outputs": [],
   "source": [
    "#code for user interaction\n",
    "#prints 5 first names+summaries within specified calorie range\n",
    "def printByCal(calrangemin, calrangemax, color, pntmin, pntmax):\n",
    "    pd.set_option('display.max_colwidth', None)\n",
    "    df = pd.read_csv(\"Skinnytaste.csv\", encoding = \"latin-1\")\n",
    "    if color == \"blue\":\n",
    "        df2 = df[[\"name\", \"summary\", \"calories\", \"blue\", \"image\"]].copy()\n",
    "    elif color == \"green\":\n",
    "        df2 = df[[\"name\", \"summary\", \"calories\", \"green\",\"image\"]].copy()\n",
    "    elif color == \"purple\":\n",
    "        df2 = df[[\"name\", \"summary\", \"calories\", \"purple\",\"image\"]].copy()\n",
    "    df2 = df2.sort_values(by=[\"calories\"])\n",
    "    for i in range(0,5):\n",
    "        for index, row in df2.iterrows():\n",
    "            if row[\"calories\"] >= calrangemin and row[\"calories\"] <= calrangemax and row[color] >= pntmin and row[color] <= pntmax:\n",
    "                urlstring = row[\"image\"]\n",
    "                #print(urlstring)\n",
    "                #print(df2.iloc(index,:-1))\n",
    "                print(row)\n",
    "                i = Image(url=urlstring, width=100, height=100)\n",
    "                display(i)\n",
    "                df2 = df2.drop(index)\n",
    "                break\n",
    "    \n",
    "    "
   ]
  },
  {
   "cell_type": "code",
   "execution_count": 34,
   "metadata": {},
   "outputs": [
    {
     "name": "stdout",
     "output_type": "stream",
     "text": [
      "Enter calorie minmum value: \n",
      "220\n",
      "Enter calorie maximum value: \n",
      "350\n",
      "Enter point color (blue, green, purple): \n",
      "green\n",
      "Enter minimum point value: \n",
      "2\n",
      "Enter maximum point value: \n",
      "8\n",
      "name                                                                                                                                                            Spicy Shrimp Fried Rice\n",
      "summary     Spicy Shrimp Fried Rice made healthier using leftover cooked brown rice, a delicious whole grain thats high in fiber, so it fills you up. Spicy Shrimp Fried Rice Fried...\n",
      "calories                                                                                                                                                                            220\n",
      "green                                                                                                                                                                                 5\n",
      "image                                                                                      https://www.skinnytaste.com/wp-content/uploads/2009/06/Spicy-Shrimp-Fried-Rice-4-260x390.jpg\n",
      "Name: 99, dtype: object\n"
     ]
    },
    {
     "data": {
      "text/html": [
       "<img src=\"https://www.skinnytaste.com/wp-content/uploads/2009/06/Spicy-Shrimp-Fried-Rice-4-260x390.jpg\" width=\"100\" height=\"100\"/>"
      ],
      "text/plain": [
       "<IPython.core.display.Image object>"
      ]
     },
     "metadata": {},
     "output_type": "display_data"
    },
    {
     "name": "stdout",
     "output_type": "stream",
     "text": [
      "name                                                                                                                                                                                Pumpkin Cream Cheese Muffins\n",
      "summary     Pumpkin Cream Cheese Muffins are moist, delicious and perfectly spiced! A delicious fall breakfast made with canned pumpkin, pumpkin spice and a cream cheese swirl topping. Pumpkin Cream Cheese...\n",
      "calories                                                                                                                                                                                                     221\n",
      "green                                                                                                                                                                                                          5\n",
      "image                                                                                                          https://www.skinnytaste.com/wp-content/uploads/2019/10/Pumpkin-Cream-Cheese-Muffins-5-260x390.jpg\n",
      "Name: 151, dtype: object\n"
     ]
    },
    {
     "data": {
      "text/html": [
       "<img src=\"https://www.skinnytaste.com/wp-content/uploads/2019/10/Pumpkin-Cream-Cheese-Muffins-5-260x390.jpg\" width=\"100\" height=\"100\"/>"
      ],
      "text/plain": [
       "<IPython.core.display.Image object>"
      ]
     },
     "metadata": {},
     "output_type": "display_data"
    },
    {
     "name": "stdout",
     "output_type": "stream",
     "text": [
      "name                                                                                                                                       Baked Corn and Crab Cakes\n",
      "summary     Deliciously Baked Corn and Crab Cakes made with lump crab and sweet summer corn. Bake them in the oven or air fryer! Baked Corn and Crab Cakes If you...\n",
      "calories                                                                                                                                                         223\n",
      "green                                                                                                                                                              6\n",
      "image                                                         https://www.skinnytaste.com/wp-content/uploads/2012/08/Skinnytaste-Baked-Corn-Crab-Cakes-6-260x390.jpg\n",
      "Name: 178, dtype: object\n"
     ]
    },
    {
     "data": {
      "text/html": [
       "<img src=\"https://www.skinnytaste.com/wp-content/uploads/2012/08/Skinnytaste-Baked-Corn-Crab-Cakes-6-260x390.jpg\" width=\"100\" height=\"100\"/>"
      ],
      "text/plain": [
       "<IPython.core.display.Image object>"
      ]
     },
     "metadata": {},
     "output_type": "display_data"
    },
    {
     "name": "stdout",
     "output_type": "stream",
     "text": [
      "name                                                                                                                                                                                                 Mashed Cauliflower\n",
      "summary     Mashed Cauliflower is essentially a creamy cauliflower puree that makes a delicious low-carb or keto alternative to mashed potatoes. Mashed Cauliflower If youre not concerned about cutting the carbs,...\n",
      "calories                                                                                                                                                                                                            225\n",
      "green                                                                                                                                                                                                                 6\n",
      "image                                                                                                                     https://www.skinnytaste.com/wp-content/uploads/2010/03/Creamy-Cauliflower-Puree-5-260x390.jpg\n",
      "Name: 159, dtype: object\n"
     ]
    },
    {
     "data": {
      "text/html": [
       "<img src=\"https://www.skinnytaste.com/wp-content/uploads/2010/03/Creamy-Cauliflower-Puree-5-260x390.jpg\" width=\"100\" height=\"100\"/>"
      ],
      "text/plain": [
       "<IPython.core.display.Image object>"
      ]
     },
     "metadata": {},
     "output_type": "display_data"
    },
    {
     "name": "stdout",
     "output_type": "stream",
     "text": [
      "name                                                                                                                                                     Zaatar Roasted Carrot and Chickpea Yogurt Bowls\n",
      "summary     Roasted Carrots and Chickpeas seasoned with zaatar and served over Greek yogurt with lemony kale makes a wonderful side dish or meatless main! Zaatar Roasted Carrots and Chickpeas Ive...\n",
      "calories                                                                                                                                                                                              225\n",
      "green                                                                                                                                                                                                   4\n",
      "image                                                                              https://www.skinnytaste.com/wp-content/uploads/2020/03/Za_atar-Roasted-Carrots-and-Chickpea-Yogurt-Bowls-4-260x390.jpg\n",
      "Name: 90, dtype: object\n"
     ]
    },
    {
     "data": {
      "text/html": [
       "<img src=\"https://www.skinnytaste.com/wp-content/uploads/2020/03/Za_atar-Roasted-Carrots-and-Chickpea-Yogurt-Bowls-4-260x390.jpg\" width=\"100\" height=\"100\"/>"
      ],
      "text/plain": [
       "<IPython.core.display.Image object>"
      ]
     },
     "metadata": {},
     "output_type": "display_data"
    }
   ],
   "source": [
    "print(\"Enter calorie minmum value: \")\n",
    "calrangmin = int(input())\n",
    "print(\"Enter calorie maximum value: \")\n",
    "calrangmax = int(input())\n",
    "print(\"Enter point color (blue, green, purple): \")\n",
    "color = input()\n",
    "print(\"Enter minimum point value: \")\n",
    "pointmin = int(input())\n",
    "print(\"Enter maximum point value: \")\n",
    "pointmax = int(input())\n",
    "\n",
    "printByCal(calrangmin, calrangmax, color, pointmin, pointmax)"
   ]
  },
  {
   "cell_type": "code",
   "execution_count": null,
   "metadata": {},
   "outputs": [],
   "source": []
  }
 ],
 "metadata": {
  "kernelspec": {
   "display_name": "Python 3",
   "language": "python",
   "name": "python3"
  },
  "language_info": {
   "codemirror_mode": {
    "name": "ipython",
    "version": 3
   },
   "file_extension": ".py",
   "mimetype": "text/x-python",
   "name": "python",
   "nbconvert_exporter": "python",
   "pygments_lexer": "ipython3",
   "version": "3.8.3"
  }
 },
 "nbformat": 4,
 "nbformat_minor": 4
}
